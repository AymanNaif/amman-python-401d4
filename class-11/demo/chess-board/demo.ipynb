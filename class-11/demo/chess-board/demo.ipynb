{
 "cells": [
  {
   "cell_type": "code",
   "execution_count": 1,
   "id": "601f648f-e8c2-4fbe-83e2-daed760a0963",
   "metadata": {},
   "outputs": [
    {
     "name": "stdout",
     "output_type": "stream",
     "text": [
      "Welcome to my first Jupyter Notebook\n"
     ]
    }
   ],
   "source": [
    "print('Welcome to my first Jupyter Notebook')"
   ]
  },
  {
   "cell_type": "code",
   "execution_count": 2,
   "id": "13be38ae-40f0-4d4d-b2d1-0ac94b9b3ca6",
   "metadata": {},
   "outputs": [],
   "source": [
    "# Let's create a quick and simple calculator"
   ]
  },
  {
   "cell_type": "code",
   "execution_count": null,
   "id": "b30eb3db-813c-43c7-b05a-fb3de14d73b5",
   "metadata": {},
   "outputs": [],
   "source": [
    "def add_nums():\n",
    "    a = input('Enter first number: ')\n",
    "    b = input('Enter second number: ')\n",
    "    print(float(a) + float(b))"
   ]
  },
  {
   "cell_type": "code",
   "execution_count": 8,
   "id": "435e4b13-9752-4a58-99ad-15d1fbeae17c",
   "metadata": {},
   "outputs": [
    {
     "name": "stdout",
     "output_type": "stream",
     "text": [
      "13.0\n"
     ]
    }
   ],
   "source": [
    "add_nums()"
   ]
  },
  {
   "cell_type": "code",
   "execution_count": 9,
   "id": "b4b04e48-c974-4d80-8979-327b42d94641",
   "metadata": {},
   "outputs": [],
   "source": [
    "# Numpy Arrays"
   ]
  },
  {
   "cell_type": "code",
   "execution_count": 10,
   "id": "0243c03f-1109-4cbf-8a42-9c39ead78952",
   "metadata": {},
   "outputs": [],
   "source": [
    "import numpy as np"
   ]
  },
  {
   "cell_type": "code",
   "execution_count": 11,
   "id": "cf4fd79d-d74d-4b5a-bc4f-1577892463c4",
   "metadata": {},
   "outputs": [],
   "source": [
    "nums = [4,7,2,8]\n",
    "nums_as_np = np.array(nums) # converting array into numpy array"
   ]
  },
  {
   "cell_type": "code",
   "execution_count": 12,
   "id": "3434926c-9a85-4a8d-8022-98169c64cf7f",
   "metadata": {},
   "outputs": [
    {
     "data": {
      "text/plain": [
       "list"
      ]
     },
     "execution_count": 12,
     "metadata": {},
     "output_type": "execute_result"
    }
   ],
   "source": [
    "type(nums)"
   ]
  },
  {
   "cell_type": "code",
   "execution_count": 13,
   "id": "b400740e-8449-44e1-8882-4499ba6e3786",
   "metadata": {},
   "outputs": [
    {
     "data": {
      "text/plain": [
       "numpy.ndarray"
      ]
     },
     "execution_count": 13,
     "metadata": {},
     "output_type": "execute_result"
    }
   ],
   "source": [
    "type(nums_as_np)"
   ]
  },
  {
   "cell_type": "code",
   "execution_count": 14,
   "id": "8be93e0e-0c7d-43e1-90bb-949a0a94ae8b",
   "metadata": {},
   "outputs": [
    {
     "data": {
      "text/plain": [
       "list"
      ]
     },
     "execution_count": 14,
     "metadata": {},
     "output_type": "execute_result"
    }
   ],
   "source": [
    "type(nums)"
   ]
  },
  {
   "cell_type": "code",
   "execution_count": 15,
   "id": "772102f8-af53-4695-ad59-766621a3d0bd",
   "metadata": {},
   "outputs": [
    {
     "data": {
      "text/plain": [
       "int"
      ]
     },
     "execution_count": 15,
     "metadata": {},
     "output_type": "execute_result"
    }
   ],
   "source": [
    "type(nums[2])"
   ]
  },
  {
   "cell_type": "code",
   "execution_count": 16,
   "id": "8ad20fd8-87f3-4991-813e-3b6d96f9acb7",
   "metadata": {},
   "outputs": [
    {
     "data": {
      "text/plain": [
       "numpy.int64"
      ]
     },
     "execution_count": 16,
     "metadata": {},
     "output_type": "execute_result"
    }
   ],
   "source": [
    "type(nums_as_np[2])"
   ]
  },
  {
   "cell_type": "code",
   "execution_count": 17,
   "id": "68c433c6-2b89-4d50-9cad-e8e44b0faf5d",
   "metadata": {},
   "outputs": [],
   "source": [
    "# Students Scores data"
   ]
  },
  {
   "cell_type": "code",
   "execution_count": 18,
   "id": "c3a44295-b76e-46f5-b5ce-0c54b4a5dc41",
   "metadata": {},
   "outputs": [],
   "source": [
    "dataset = np.genfromtxt('./student_scores.csv', delimiter=',', skip_header=True)"
   ]
  },
  {
   "cell_type": "code",
   "execution_count": 19,
   "id": "4191edff-3568-48fb-9ff5-3341af25cc68",
   "metadata": {},
   "outputs": [
    {
     "data": {
      "text/plain": [
       "numpy.ndarray"
      ]
     },
     "execution_count": 19,
     "metadata": {},
     "output_type": "execute_result"
    }
   ],
   "source": [
    "type(dataset)"
   ]
  },
  {
   "cell_type": "code",
   "execution_count": 20,
   "id": "075cb961-3db3-4b70-be89-a799fc45a66d",
   "metadata": {},
   "outputs": [
    {
     "data": {
      "text/plain": [
       "array([ 2.5, 21. ])"
      ]
     },
     "execution_count": 20,
     "metadata": {},
     "output_type": "execute_result"
    }
   ],
   "source": [
    "dataset[0]"
   ]
  },
  {
   "cell_type": "code",
   "execution_count": 21,
   "id": "37e8a08e-0da6-4d86-84b5-c26f3ec1c1d1",
   "metadata": {},
   "outputs": [
    {
     "data": {
      "text/plain": [
       "21.0"
      ]
     },
     "execution_count": 21,
     "metadata": {},
     "output_type": "execute_result"
    }
   ],
   "source": [
    "dataset[0][1]"
   ]
  },
  {
   "cell_type": "code",
   "execution_count": 22,
   "id": "452cc83a-1cb2-4c9b-a5f8-68647ade6459",
   "metadata": {},
   "outputs": [
    {
     "data": {
      "text/plain": [
       "21.0"
      ]
     },
     "execution_count": 22,
     "metadata": {},
     "output_type": "execute_result"
    }
   ],
   "source": [
    "dataset[0,1]"
   ]
  },
  {
   "cell_type": "code",
   "execution_count": 23,
   "id": "83fb25d3-dbb5-48d7-bdbe-cf1ef6e5d312",
   "metadata": {},
   "outputs": [
    {
     "data": {
      "text/plain": [
       "85.0"
      ]
     },
     "execution_count": 23,
     "metadata": {},
     "output_type": "execute_result"
    }
   ],
   "source": [
    "dataset[10,1]"
   ]
  },
  {
   "cell_type": "code",
   "execution_count": 24,
   "id": "05e5e0d0-eeb6-4d13-b464-8a6c99687d8c",
   "metadata": {},
   "outputs": [
    {
     "data": {
      "text/plain": [
       "(25, 2)"
      ]
     },
     "execution_count": 24,
     "metadata": {},
     "output_type": "execute_result"
    }
   ],
   "source": [
    "dataset.shape"
   ]
  },
  {
   "cell_type": "code",
   "execution_count": 25,
   "id": "9069483a-01e3-4cfa-bda1-ad3dd9a9dbb3",
   "metadata": {},
   "outputs": [],
   "source": [
    "number_of_rows = dataset.shape[0]"
   ]
  },
  {
   "cell_type": "code",
   "execution_count": 26,
   "id": "4ae29c7b-42b7-4483-962c-47a018527ad7",
   "metadata": {},
   "outputs": [
    {
     "data": {
      "text/plain": [
       "25"
      ]
     },
     "execution_count": 26,
     "metadata": {},
     "output_type": "execute_result"
    }
   ],
   "source": [
    "number_of_rows"
   ]
  },
  {
   "cell_type": "code",
   "execution_count": 27,
   "id": "5ec845fc-bc8a-4841-a76b-01b614675d60",
   "metadata": {},
   "outputs": [],
   "source": [
    "hours = dataset[:,0]"
   ]
  },
  {
   "cell_type": "code",
   "execution_count": 28,
   "id": "8c4816ca-772a-42ff-9132-08f1524265a4",
   "metadata": {},
   "outputs": [
    {
     "data": {
      "text/plain": [
       "2.5"
      ]
     },
     "execution_count": 28,
     "metadata": {},
     "output_type": "execute_result"
    }
   ],
   "source": [
    "hours[0]"
   ]
  },
  {
   "cell_type": "code",
   "execution_count": 29,
   "id": "a0744414-46c6-4d1a-a8ce-f12f3d46c88f",
   "metadata": {},
   "outputs": [
    {
     "data": {
      "text/plain": [
       "array([2.5, 5.1, 3.2, 8.5, 3.5, 1.5, 9.2, 5.5, 8.3, 2.7, 7.7, 5.9, 4.5,\n",
       "       3.3, 1.1, 8.9, 2.5, 1.9, 6.1, 7.4, 2.7, 4.8, 3.8, 6.9, 7.8])"
      ]
     },
     "execution_count": 29,
     "metadata": {},
     "output_type": "execute_result"
    }
   ],
   "source": [
    "hours"
   ]
  },
  {
   "cell_type": "code",
   "execution_count": 30,
   "id": "68f83c4e-8279-455a-abc7-e865db09387a",
   "metadata": {},
   "outputs": [],
   "source": [
    "avg_study_hours = np.mean(hours)"
   ]
  },
  {
   "cell_type": "code",
   "execution_count": 31,
   "id": "449c344c-2131-4eb5-b289-f1df986f530c",
   "metadata": {},
   "outputs": [
    {
     "data": {
      "text/plain": [
       "5.012"
      ]
     },
     "execution_count": 31,
     "metadata": {},
     "output_type": "execute_result"
    }
   ],
   "source": [
    "avg_study_hours"
   ]
  },
  {
   "cell_type": "code",
   "execution_count": 32,
   "id": "67cdda4a-4789-4a3a-a4ce-8a23723ce89c",
   "metadata": {},
   "outputs": [
    {
     "data": {
      "text/plain": [
       "5.012"
      ]
     },
     "execution_count": 32,
     "metadata": {},
     "output_type": "execute_result"
    }
   ],
   "source": [
    "np.mean(dataset[:,0]) # in one line"
   ]
  },
  {
   "cell_type": "code",
   "execution_count": null,
   "id": "94a40ed3-0e82-422a-9940-b31972190d54",
   "metadata": {},
   "outputs": [],
   "source": []
  }
 ],
 "metadata": {
  "kernelspec": {
   "display_name": "Python 3",
   "language": "python",
   "name": "python3"
  },
  "language_info": {
   "codemirror_mode": {
    "name": "ipython",
    "version": 3
   },
   "file_extension": ".py",
   "mimetype": "text/x-python",
   "name": "python",
   "nbconvert_exporter": "python",
   "pygments_lexer": "ipython3",
   "version": "3.8.5"
  }
 },
 "nbformat": 4,
 "nbformat_minor": 5
}
